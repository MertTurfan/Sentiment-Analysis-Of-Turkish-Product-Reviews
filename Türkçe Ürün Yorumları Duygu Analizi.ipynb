{
 "cells": [
  {
   "cell_type": "markdown",
   "id": "aa32ed47",
   "metadata": {},
   "source": [
    "<H1>&nbsp;&nbsp;&nbsp;&nbsp;&nbsp;&nbsp;&nbsp;&nbsp;&nbsp;&nbsp;&nbsp;&nbsp;&nbsp;&nbsp;&nbsp;&nbsp;&nbsp;&nbsp;&nbsp;&nbsp;&nbsp;&nbsp;&nbsp;&nbsp;&nbsp;&nbsp;&nbsp;&nbsp;&nbsp;&nbsp;&nbsp;&nbsp;&nbsp;&nbsp;&nbsp;&nbsp;&nbsp;&nbsp;&nbsp;DUYGU ANALİZİ PROJESİ</H1>\n",
    "\n",
    "#### Bu projede; Kaggle platformundan aldığım, Hepsiburada, Trendyol ve N11 gibi  e-ticaret sitelerinden çekilen Türkçe ürün yorumları  kullanılarak bir duygu analizi çalışması yapılmıştır."
   ]
  },
  {
   "cell_type": "code",
   "execution_count": 1,
   "id": "526b509a",
   "metadata": {},
   "outputs": [],
   "source": [
    "import numpy as np\n",
    "import pandas as pd\n",
    "import string\n",
    "import re\n",
    "import nltk\n",
    "import snowballstemmer\n",
    "# nltk.download('stopwords')\n",
    "from nltk.corpus import stopwords\n",
    "import warnings\n",
    "warnings.simplefilter(action='ignore', category=FutureWarning)\n",
    "from sklearn.model_selection import train_test_split\n",
    "import matplotlib.pyplot as plt\n",
    "from sklearn.feature_extraction.text import CountVectorizer\n",
    "from sklearn.feature_extraction.text import TfidfTransformer\n",
    "from sklearn.naive_bayes import MultinomialNB\n",
    "from sklearn.metrics import accuracy_score\n",
    "from sklearn.ensemble import RandomForestClassifier"
   ]
  },
  {
   "cell_type": "code",
   "execution_count": 2,
   "id": "02981e96",
   "metadata": {},
   "outputs": [
    {
     "data": {
      "text/html": [
       "<div>\n",
       "<style scoped>\n",
       "    .dataframe tbody tr th:only-of-type {\n",
       "        vertical-align: middle;\n",
       "    }\n",
       "\n",
       "    .dataframe tbody tr th {\n",
       "        vertical-align: top;\n",
       "    }\n",
       "\n",
       "    .dataframe thead th {\n",
       "        text-align: right;\n",
       "    }\n",
       "</style>\n",
       "<table border=\"1\" class=\"dataframe\">\n",
       "  <thead>\n",
       "    <tr style=\"text-align: right;\">\n",
       "      <th></th>\n",
       "      <th>Metin</th>\n",
       "      <th>Durum</th>\n",
       "    </tr>\n",
       "  </thead>\n",
       "  <tbody>\n",
       "    <tr>\n",
       "      <th>0</th>\n",
       "      <td>evet anlatıldığı gibi</td>\n",
       "      <td>1</td>\n",
       "    </tr>\n",
       "    <tr>\n",
       "      <th>1</th>\n",
       "      <td>Daha öncede almıştım bu cihazdan ense ve sakal...</td>\n",
       "      <td>1</td>\n",
       "    </tr>\n",
       "    <tr>\n",
       "      <th>2</th>\n",
       "      <td>Ürün gayet başarılı sakal kesmede başlık sayıs...</td>\n",
       "      <td>1</td>\n",
       "    </tr>\n",
       "    <tr>\n",
       "      <th>3</th>\n",
       "      <td>Daha öncede aynısını almıştım çok güzel ve kal...</td>\n",
       "      <td>1</td>\n",
       "    </tr>\n",
       "    <tr>\n",
       "      <th>4</th>\n",
       "      <td>Erkek kuaförüyüm ense ve sıfır sakal traşı içi...</td>\n",
       "      <td>1</td>\n",
       "    </tr>\n",
       "    <tr>\n",
       "      <th>5</th>\n",
       "      <td>ürün gerçekten çok güzel</td>\n",
       "      <td>1</td>\n",
       "    </tr>\n",
       "    <tr>\n",
       "      <th>6</th>\n",
       "      <td>Ürün beklediğimden güzel çıktı gayet kullanışl...</td>\n",
       "      <td>1</td>\n",
       "    </tr>\n",
       "    <tr>\n",
       "      <th>7</th>\n",
       "      <td>güzel makina tavsiye ederim</td>\n",
       "      <td>1</td>\n",
       "    </tr>\n",
       "    <tr>\n",
       "      <th>8</th>\n",
       "      <td>tavsiye edebileceğim çok güzel bir makina</td>\n",
       "      <td>1</td>\n",
       "    </tr>\n",
       "    <tr>\n",
       "      <th>9</th>\n",
       "      <td>ürün geldiğinde şarjı vardı. ilk lullanım önce...</td>\n",
       "      <td>1</td>\n",
       "    </tr>\n",
       "    <tr>\n",
       "      <th>10</th>\n",
       "      <td>Ürün sadece aldığım gün güzel bir şekilde kest...</td>\n",
       "      <td>0</td>\n",
       "    </tr>\n",
       "    <tr>\n",
       "      <th>11</th>\n",
       "      <td>denedim ürün çok güzel herkese tavsiye ederim</td>\n",
       "      <td>1</td>\n",
       "    </tr>\n",
       "    <tr>\n",
       "      <th>12</th>\n",
       "      <td>ürün harika tam istediğim gibi ayrıca mağazaya...</td>\n",
       "      <td>1</td>\n",
       "    </tr>\n",
       "    <tr>\n",
       "      <th>13</th>\n",
       "      <td>Ürün hala elime geçmedi</td>\n",
       "      <td>0</td>\n",
       "    </tr>\n",
       "    <tr>\n",
       "      <th>14</th>\n",
       "      <td>Bir kere kullandım memnun kaldım</td>\n",
       "      <td>1</td>\n",
       "    </tr>\n",
       "    <tr>\n",
       "      <th>15</th>\n",
       "      <td>35 TL ye berber makinesi powertec almıştım. 30...</td>\n",
       "      <td>1</td>\n",
       "    </tr>\n",
       "    <tr>\n",
       "      <th>16</th>\n",
       "      <td>Ürün çalışıyor şimdilik</td>\n",
       "      <td>2</td>\n",
       "    </tr>\n",
       "    <tr>\n",
       "      <th>17</th>\n",
       "      <td>tam istedigim gbi orjinal</td>\n",
       "      <td>1</td>\n",
       "    </tr>\n",
       "    <tr>\n",
       "      <th>18</th>\n",
       "      <td>Ürün, kullanım açısından kolay. Yanında 1mm 2m...</td>\n",
       "      <td>1</td>\n",
       "    </tr>\n",
       "    <tr>\n",
       "      <th>19</th>\n",
       "      <td>hiç dusunmeden alın derim jilet gibi kesiyor</td>\n",
       "      <td>1</td>\n",
       "    </tr>\n",
       "  </tbody>\n",
       "</table>\n",
       "</div>"
      ],
      "text/plain": [
       "                                                Metin  Durum\n",
       "0                               evet anlatıldığı gibi      1\n",
       "1   Daha öncede almıştım bu cihazdan ense ve sakal...      1\n",
       "2   Ürün gayet başarılı sakal kesmede başlık sayıs...      1\n",
       "3   Daha öncede aynısını almıştım çok güzel ve kal...      1\n",
       "4   Erkek kuaförüyüm ense ve sıfır sakal traşı içi...      1\n",
       "5                            ürün gerçekten çok güzel      1\n",
       "6   Ürün beklediğimden güzel çıktı gayet kullanışl...      1\n",
       "7                         güzel makina tavsiye ederim      1\n",
       "8           tavsiye edebileceğim çok güzel bir makina      1\n",
       "9   ürün geldiğinde şarjı vardı. ilk lullanım önce...      1\n",
       "10  Ürün sadece aldığım gün güzel bir şekilde kest...      0\n",
       "11      denedim ürün çok güzel herkese tavsiye ederim      1\n",
       "12  ürün harika tam istediğim gibi ayrıca mağazaya...      1\n",
       "13                            Ürün hala elime geçmedi      0\n",
       "14                   Bir kere kullandım memnun kaldım      1\n",
       "15  35 TL ye berber makinesi powertec almıştım. 30...      1\n",
       "16                            Ürün çalışıyor şimdilik      2\n",
       "17                          tam istedigim gbi orjinal      1\n",
       "18  Ürün, kullanım açısından kolay. Yanında 1mm 2m...      1\n",
       "19       hiç dusunmeden alın derim jilet gibi kesiyor      1"
      ]
     },
     "execution_count": 2,
     "metadata": {},
     "output_type": "execute_result"
    }
   ],
   "source": [
    "df = pd.read_csv(\"e-ticaret_urun_yorumlari.csv\",delimiter=';')\n",
    "df.head(20)\n",
    "# 0: olumsuz\n",
    "# 1: olumlu\n",
    "# 2: nötr"
   ]
  },
  {
   "cell_type": "code",
   "execution_count": 3,
   "id": "38076bd3",
   "metadata": {},
   "outputs": [
    {
     "data": {
      "text/plain": [
       "0    6978\n",
       "1    6799\n",
       "2    1393\n",
       "Name: Durum, dtype: int64"
      ]
     },
     "execution_count": 3,
     "metadata": {},
     "output_type": "execute_result"
    }
   ],
   "source": [
    "df['Durum'].value_counts()"
   ]
  },
  {
   "cell_type": "code",
   "execution_count": 4,
   "id": "e466ffe1",
   "metadata": {},
   "outputs": [
    {
     "data": {
      "text/plain": [
       "15170"
      ]
     },
     "execution_count": 4,
     "metadata": {},
     "output_type": "execute_result"
    }
   ],
   "source": [
    "len(df)"
   ]
  },
  {
   "cell_type": "code",
   "execution_count": 5,
   "id": "c5a182dd",
   "metadata": {},
   "outputs": [
    {
     "data": {
      "text/plain": [
       "'Ürün gayet başarılı sakal kesmede başlık sayısı biraz daha fazla olabilirdi.Hem 0 a yakın aliyor. hem de kirli sakal için 3 numara başlık ideal.'"
      ]
     },
     "execution_count": 5,
     "metadata": {},
     "output_type": "execute_result"
    }
   ],
   "source": [
    "ornek_cumle= df.Metin[2]\n",
    "ornek_cumle"
   ]
  },
  {
   "cell_type": "code",
   "execution_count": 6,
   "id": "bf0f93bc",
   "metadata": {},
   "outputs": [],
   "source": [
    "df['Temiz Metin'] = df['Metin']\n",
    "#buyuk-kucuk donusumu\n",
    "df['Temiz Metin'] = df['Temiz Metin'].apply(lambda x: \" \".join(x.lower() for x in x.split()))\n",
    "#noktalama işaretleri\n",
    "df['Temiz Metin'] = df['Temiz Metin'].str.replace('[^\\w\\s]','')\n",
    "#sayılar\n",
    "df['Temiz Metin'] = df['Temiz Metin'].str.replace('\\d','')\n",
    "\n",
    "sw = stopwords.words('turkish')\n",
    "df['Temiz Metin'] = df['Temiz Metin'].apply(lambda x: \" \".join(x for x in x.split() if x not in sw))"
   ]
  },
  {
   "cell_type": "code",
   "execution_count": 7,
   "id": "19accda8",
   "metadata": {},
   "outputs": [
    {
     "data": {
      "text/plain": [
       "'ürün gayet başarılı sakal kesmede başlık sayısı biraz fazla olabilirdihem a yakın aliyor kirli sakal numara başlık ideal'"
      ]
     },
     "execution_count": 7,
     "metadata": {},
     "output_type": "execute_result"
    }
   ],
   "source": [
    "df['Temiz Metin'][2]"
   ]
  },
  {
   "cell_type": "code",
   "execution_count": 8,
   "id": "d7389643",
   "metadata": {},
   "outputs": [
    {
     "data": {
      "text/plain": [
       "'Ürün gayet başarılı sakal kesmede başlık sayısı biraz daha fazla olabilirdi.Hem 0 a yakın aliyor. hem de kirli sakal için 3 numara başlık ideal.'"
      ]
     },
     "execution_count": 8,
     "metadata": {},
     "output_type": "execute_result"
    }
   ],
   "source": [
    "df['Metin'][2]"
   ]
  },
  {
   "cell_type": "code",
   "execution_count": 9,
   "id": "4a831d20",
   "metadata": {},
   "outputs": [
    {
     "data": {
      "text/html": [
       "<div>\n",
       "<style scoped>\n",
       "    .dataframe tbody tr th:only-of-type {\n",
       "        vertical-align: middle;\n",
       "    }\n",
       "\n",
       "    .dataframe tbody tr th {\n",
       "        vertical-align: top;\n",
       "    }\n",
       "\n",
       "    .dataframe thead th {\n",
       "        text-align: right;\n",
       "    }\n",
       "</style>\n",
       "<table border=\"1\" class=\"dataframe\">\n",
       "  <thead>\n",
       "    <tr style=\"text-align: right;\">\n",
       "      <th></th>\n",
       "      <th>Metin</th>\n",
       "      <th>Durum</th>\n",
       "      <th>Temiz Metin</th>\n",
       "    </tr>\n",
       "  </thead>\n",
       "  <tbody>\n",
       "    <tr>\n",
       "      <th>0</th>\n",
       "      <td>evet anlatıldığı gibi</td>\n",
       "      <td>1</td>\n",
       "      <td>evet anlatıldığı</td>\n",
       "    </tr>\n",
       "    <tr>\n",
       "      <th>1</th>\n",
       "      <td>Daha öncede almıştım bu cihazdan ense ve sakal...</td>\n",
       "      <td>1</td>\n",
       "      <td>öncede almıştım cihazdan ense sakal tüketmek o...</td>\n",
       "    </tr>\n",
       "    <tr>\n",
       "      <th>2</th>\n",
       "      <td>Ürün gayet başarılı sakal kesmede başlık sayıs...</td>\n",
       "      <td>1</td>\n",
       "      <td>ürün gayet başarılı sakal kesmede başlık sayıs...</td>\n",
       "    </tr>\n",
       "    <tr>\n",
       "      <th>3</th>\n",
       "      <td>Daha öncede aynısını almıştım çok güzel ve kal...</td>\n",
       "      <td>1</td>\n",
       "      <td>öncede aynısını almıştım güzel kaliteli bir ürün</td>\n",
       "    </tr>\n",
       "    <tr>\n",
       "      <th>4</th>\n",
       "      <td>Erkek kuaförüyüm ense ve sıfır sakal traşı içi...</td>\n",
       "      <td>1</td>\n",
       "      <td>erkek kuaförüyüm ense sıfır sakal traşı uygun ...</td>\n",
       "    </tr>\n",
       "    <tr>\n",
       "      <th>5</th>\n",
       "      <td>ürün gerçekten çok güzel</td>\n",
       "      <td>1</td>\n",
       "      <td>ürün gerçekten güzel</td>\n",
       "    </tr>\n",
       "    <tr>\n",
       "      <th>6</th>\n",
       "      <td>Ürün beklediğimden güzel çıktı gayet kullanışl...</td>\n",
       "      <td>1</td>\n",
       "      <td>ürün beklediğimden güzel çıktı gayet kullanışl...</td>\n",
       "    </tr>\n",
       "    <tr>\n",
       "      <th>7</th>\n",
       "      <td>güzel makina tavsiye ederim</td>\n",
       "      <td>1</td>\n",
       "      <td>güzel makina tavsiye ederim</td>\n",
       "    </tr>\n",
       "    <tr>\n",
       "      <th>8</th>\n",
       "      <td>tavsiye edebileceğim çok güzel bir makina</td>\n",
       "      <td>1</td>\n",
       "      <td>tavsiye edebileceğim güzel bir makina</td>\n",
       "    </tr>\n",
       "    <tr>\n",
       "      <th>9</th>\n",
       "      <td>ürün geldiğinde şarjı vardı. ilk lullanım önce...</td>\n",
       "      <td>1</td>\n",
       "      <td>ürün geldiğinde şarjı vardı ilk lullanım önces...</td>\n",
       "    </tr>\n",
       "  </tbody>\n",
       "</table>\n",
       "</div>"
      ],
      "text/plain": [
       "                                               Metin  Durum  \\\n",
       "0                              evet anlatıldığı gibi      1   \n",
       "1  Daha öncede almıştım bu cihazdan ense ve sakal...      1   \n",
       "2  Ürün gayet başarılı sakal kesmede başlık sayıs...      1   \n",
       "3  Daha öncede aynısını almıştım çok güzel ve kal...      1   \n",
       "4  Erkek kuaförüyüm ense ve sıfır sakal traşı içi...      1   \n",
       "5                           ürün gerçekten çok güzel      1   \n",
       "6  Ürün beklediğimden güzel çıktı gayet kullanışl...      1   \n",
       "7                        güzel makina tavsiye ederim      1   \n",
       "8          tavsiye edebileceğim çok güzel bir makina      1   \n",
       "9  ürün geldiğinde şarjı vardı. ilk lullanım önce...      1   \n",
       "\n",
       "                                         Temiz Metin  \n",
       "0                                   evet anlatıldığı  \n",
       "1  öncede almıştım cihazdan ense sakal tüketmek o...  \n",
       "2  ürün gayet başarılı sakal kesmede başlık sayıs...  \n",
       "3   öncede aynısını almıştım güzel kaliteli bir ürün  \n",
       "4  erkek kuaförüyüm ense sıfır sakal traşı uygun ...  \n",
       "5                               ürün gerçekten güzel  \n",
       "6  ürün beklediğimden güzel çıktı gayet kullanışl...  \n",
       "7                        güzel makina tavsiye ederim  \n",
       "8              tavsiye edebileceğim güzel bir makina  \n",
       "9  ürün geldiğinde şarjı vardı ilk lullanım önces...  "
      ]
     },
     "execution_count": 9,
     "metadata": {},
     "output_type": "execute_result"
    }
   ],
   "source": [
    "df.head(10)"
   ]
  },
  {
   "cell_type": "code",
   "execution_count": 10,
   "id": "40f407de",
   "metadata": {},
   "outputs": [],
   "source": [
    "stemmer = snowballstemmer.stemmer('turkish')\n",
    "df[\"Kök Metin\"]=df[\"Temiz Metin\"].apply(lambda x: \" \".join([stemmer.stemWord(word) for word in x.split()]))"
   ]
  },
  {
   "cell_type": "code",
   "execution_count": 11,
   "id": "58ed1de6",
   "metadata": {},
   "outputs": [
    {
     "data": {
      "text/html": [
       "<div>\n",
       "<style scoped>\n",
       "    .dataframe tbody tr th:only-of-type {\n",
       "        vertical-align: middle;\n",
       "    }\n",
       "\n",
       "    .dataframe tbody tr th {\n",
       "        vertical-align: top;\n",
       "    }\n",
       "\n",
       "    .dataframe thead th {\n",
       "        text-align: right;\n",
       "    }\n",
       "</style>\n",
       "<table border=\"1\" class=\"dataframe\">\n",
       "  <thead>\n",
       "    <tr style=\"text-align: right;\">\n",
       "      <th></th>\n",
       "      <th>Metin</th>\n",
       "      <th>Durum</th>\n",
       "      <th>Temiz Metin</th>\n",
       "      <th>Kök Metin</th>\n",
       "    </tr>\n",
       "  </thead>\n",
       "  <tbody>\n",
       "    <tr>\n",
       "      <th>0</th>\n",
       "      <td>evet anlatıldığı gibi</td>\n",
       "      <td>1</td>\n",
       "      <td>evet anlatıldığı</td>\n",
       "      <td>evet anlatıldık</td>\n",
       "    </tr>\n",
       "    <tr>\n",
       "      <th>1</th>\n",
       "      <td>Daha öncede almıştım bu cihazdan ense ve sakal...</td>\n",
       "      <td>1</td>\n",
       "      <td>öncede almıştım cihazdan ense sakal tüketmek o...</td>\n",
       "      <td>önce almış cihaz en sakal tüketmek on numar sı...</td>\n",
       "    </tr>\n",
       "    <tr>\n",
       "      <th>2</th>\n",
       "      <td>Ürün gayet başarılı sakal kesmede başlık sayıs...</td>\n",
       "      <td>1</td>\n",
       "      <td>ürün gayet başarılı sakal kesmede başlık sayıs...</td>\n",
       "      <td>ür gayet başarıl sakal kesme başlık sayıs bira...</td>\n",
       "    </tr>\n",
       "    <tr>\n",
       "      <th>3</th>\n",
       "      <td>Daha öncede aynısını almıştım çok güzel ve kal...</td>\n",
       "      <td>1</td>\n",
       "      <td>öncede aynısını almıştım güzel kaliteli bir ürün</td>\n",
       "      <td>önce aynı almış güzel kalitel bir ür</td>\n",
       "    </tr>\n",
       "    <tr>\n",
       "      <th>4</th>\n",
       "      <td>Erkek kuaförüyüm ense ve sıfır sakal traşı içi...</td>\n",
       "      <td>1</td>\n",
       "      <td>erkek kuaförüyüm ense sıfır sakal traşı uygun ...</td>\n",
       "      <td>erkek kuaför en sıfır sakal traş uygu bir ür</td>\n",
       "    </tr>\n",
       "  </tbody>\n",
       "</table>\n",
       "</div>"
      ],
      "text/plain": [
       "                                               Metin  Durum  \\\n",
       "0                              evet anlatıldığı gibi      1   \n",
       "1  Daha öncede almıştım bu cihazdan ense ve sakal...      1   \n",
       "2  Ürün gayet başarılı sakal kesmede başlık sayıs...      1   \n",
       "3  Daha öncede aynısını almıştım çok güzel ve kal...      1   \n",
       "4  Erkek kuaförüyüm ense ve sıfır sakal traşı içi...      1   \n",
       "\n",
       "                                         Temiz Metin  \\\n",
       "0                                   evet anlatıldığı   \n",
       "1  öncede almıştım cihazdan ense sakal tüketmek o...   \n",
       "2  ürün gayet başarılı sakal kesmede başlık sayıs...   \n",
       "3   öncede aynısını almıştım güzel kaliteli bir ürün   \n",
       "4  erkek kuaförüyüm ense sıfır sakal traşı uygun ...   \n",
       "\n",
       "                                           Kök Metin  \n",
       "0                                    evet anlatıldık  \n",
       "1  önce almış cihaz en sakal tüketmek on numar sı...  \n",
       "2  ür gayet başarıl sakal kesme başlık sayıs bira...  \n",
       "3               önce aynı almış güzel kalitel bir ür  \n",
       "4       erkek kuaför en sıfır sakal traş uygu bir ür  "
      ]
     },
     "execution_count": 11,
     "metadata": {},
     "output_type": "execute_result"
    }
   ],
   "source": [
    "df.head()"
   ]
  },
  {
   "cell_type": "code",
   "execution_count": 12,
   "id": "c7082175",
   "metadata": {},
   "outputs": [
    {
     "data": {
      "text/plain": [
       "'Ürün gayet başarılı sakal kesmede başlık sayısı biraz daha fazla olabilirdi.Hem 0 a yakın aliyor. hem de kirli sakal için 3 numara başlık ideal.'"
      ]
     },
     "execution_count": 12,
     "metadata": {},
     "output_type": "execute_result"
    }
   ],
   "source": [
    "df['Metin'][2]"
   ]
  },
  {
   "cell_type": "code",
   "execution_count": 13,
   "id": "69d3bf1e",
   "metadata": {},
   "outputs": [
    {
     "data": {
      "text/plain": [
       "'ürün gayet başarılı sakal kesmede başlık sayısı biraz fazla olabilirdihem a yakın aliyor kirli sakal numara başlık ideal'"
      ]
     },
     "execution_count": 13,
     "metadata": {},
     "output_type": "execute_result"
    }
   ],
   "source": [
    "df['Temiz Metin'][2]"
   ]
  },
  {
   "cell_type": "code",
   "execution_count": 14,
   "id": "34e56af1",
   "metadata": {},
   "outputs": [
    {
     "data": {
      "text/plain": [
       "'ür gayet başarıl sakal kesme başlık sayıs biraz faz olabilirdihe a yak aliyor kirli sakal numar başlık ideal'"
      ]
     },
     "execution_count": 14,
     "metadata": {},
     "output_type": "execute_result"
    }
   ],
   "source": [
    "df['Kök Metin'][2]"
   ]
  },
  {
   "cell_type": "code",
   "execution_count": 15,
   "id": "17dd5403",
   "metadata": {},
   "outputs": [
    {
     "data": {
      "text/plain": [
       "0                                          evet anlatıldık\n",
       "1        önce almış cihaz en sakal tüketmek on numar sı...\n",
       "2        ür gayet başarıl sakal kesme başlık sayıs bira...\n",
       "3                     önce aynı almış güzel kalitel bir ür\n",
       "4             erkek kuaför en sıfır sakal traş uygu bir ür\n",
       "                               ...                        \n",
       "15165                                 ışık seviyes rezalet\n",
       "15166    hic begenmedi aydinlatma hic yok kapattigi aya...\n",
       "15167                 gün sonra hoparlör bozul kullanışsız\n",
       "15168         aşır boğuk bir ses rengi var kuma heme bozul\n",
       "15169                      kuma kalites verdik para değmez\n",
       "Name: Kök Metin, Length: 15170, dtype: object"
      ]
     },
     "execution_count": 15,
     "metadata": {},
     "output_type": "execute_result"
    }
   ],
   "source": [
    "df['Kök Metin']"
   ]
  },
  {
   "cell_type": "code",
   "execution_count": 16,
   "id": "4d89b8ce",
   "metadata": {},
   "outputs": [],
   "source": [
    "x = df['Kök Metin']\n",
    "y = df['Durum']\n",
    "# train test split\n",
    "train_x, test_x, y_train, y_test = train_test_split(x,y, test_size = 0.1,random_state=42)"
   ]
  },
  {
   "cell_type": "code",
   "execution_count": 17,
   "id": "b79db636",
   "metadata": {},
   "outputs": [
    {
     "name": "stdout",
     "output_type": "stream",
     "text": [
      "(13653,)\n"
     ]
    }
   ],
   "source": [
    "print(train_x.shape)"
   ]
  },
  {
   "cell_type": "code",
   "execution_count": 18,
   "id": "0a16f386",
   "metadata": {},
   "outputs": [
    {
     "name": "stdout",
     "output_type": "stream",
     "text": [
      "(1517,)\n"
     ]
    }
   ],
   "source": [
    "print(test_x.shape)"
   ]
  },
  {
   "cell_type": "code",
   "execution_count": 19,
   "id": "462fca04",
   "metadata": {},
   "outputs": [
    {
     "data": {
      "text/plain": [
       "<13653x11449 sparse matrix of type '<class 'numpy.int64'>'\n",
       "\twith 129038 stored elements in Compressed Sparse Row format>"
      ]
     },
     "execution_count": 19,
     "metadata": {},
     "output_type": "execute_result"
    }
   ],
   "source": [
    "count_vect = CountVectorizer()\n",
    "X_train = count_vect.fit_transform(train_x)\n",
    "X_train"
   ]
  },
  {
   "cell_type": "code",
   "execution_count": 20,
   "id": "c44b399d",
   "metadata": {},
   "outputs": [
    {
     "data": {
      "text/plain": [
       "(13653, 11449)"
      ]
     },
     "execution_count": 20,
     "metadata": {},
     "output_type": "execute_result"
    }
   ],
   "source": [
    "X_train.shape"
   ]
  },
  {
   "cell_type": "markdown",
   "id": "1658f5c5",
   "metadata": {},
   "source": [
    "## Naive Bayes ;"
   ]
  },
  {
   "cell_type": "code",
   "execution_count": 21,
   "id": "3c60c8fe",
   "metadata": {},
   "outputs": [],
   "source": [
    "clf = MultinomialNB().fit(X_train,y_train)"
   ]
  },
  {
   "cell_type": "code",
   "execution_count": 22,
   "id": "6931c0c6",
   "metadata": {},
   "outputs": [],
   "source": [
    "X_test = count_vect.transform(test_x)"
   ]
  },
  {
   "cell_type": "code",
   "execution_count": 23,
   "id": "1a9af3c6",
   "metadata": {},
   "outputs": [
    {
     "name": "stdout",
     "output_type": "stream",
     "text": [
      "'mario oynamak alınır' => 1\n",
      "'piyasa gör uygu fiyatlı güzel bir ür' => 1\n",
      "'ür ebat ufak olduk ia et oynamak pek keyifli gelmedi' => 0\n",
      "'harik bir ür' => 1\n",
      "'ür yanlış gel baya ayakkabıs gel ger gönderecek tam bir saçmalık' => 0\n",
      "'güzel sakal alıyor kes süper' => 1\n",
      "'güzel bir ürüncok çabuk gel' => 1\n",
      "'eş hedi al beğe aynı gittik berber kullanıyomus gönül rahatlık alabilir' => 1\n",
      "'ür biraz dandik plas olmas köt iş görür' => 0\n",
      "'ür fiyat gör güzel yurt iç kargo köt adres gelme adres sorunlu diyor korgo gidip al sor ilet elaman ilgis adres sorunlu yazıp geçiyor' => 0\n",
      "'ür kalites i orjinal paketle güzel satıç ilgilihoş vakit geçirmek ideal' => 1\n",
      "'ür fiyat gör i süper mario oynamak bil yeter' => 1\n",
      "'gör kalites' => 0\n",
      "'fevkalade fevk' => 0\n",
      "'plastik bir ça kız oynamak istedi felaket kokuyor' => 0\n",
      "'ür güzel değil el alır almaz ekra çık bozuk ür gönder beklemez sayfa bozuk ür gel demekki oluyor sak almay bnce kullanma ekra ca çık m söylemiş beş gönder bileklik takamadı bil ola para ol' => 0\n",
      "'ür paketle harik çabuk ulaş inşallah bir sor ilerik zaman çıkmaz teşekkür' => 1\n",
      "'saçma sapa ekra jelat çıkardık an çizil dandik olacak düşündü kadar tahm etmedi d' => 0\n",
      "'fena degil' => 2\n",
      "'rengi güzel der bir yüze var sırt kısmı oturak kısmı aras ayrık sırt kısmı t inip kalkmas güzel tekerlek sağla kargola i' => 0\n",
      "'gayet beğe eğlencel çocukluk döndür' => 1\n",
      "'güzel malze teşekkür' => 1\n",
      "'gün kullandık sonra bağla sor yaşadı ia edecek' => 0\n",
      "'pande süreç eş iş yaradı pahal ürün i süper bir mak' => 1\n",
      "'rezalet para değmez gele ür dandik görünümlü plastik basit renk canlı değil ekra açılmıyor bozuk ia edice' => 0\n",
      "'kesinlik almay aldırmay g yer dağıl kemer yer çık kulpu ayrıl rezalet ötes kesinlik almay sadeç zincir kullanmak zor kalır' => 0\n",
      "'fiyat gör ür i ancak faturas gel ür kurul basit' => 0\n",
      "'diğer marka kulla bir cidi i bir mak göz kapal al teslimat hızlı teşekkür' => 1\n",
      "'küçük ofis sandalyes isteyen ideal' => 1\n",
      "'ür kalitel tavsi eder' => 1\n"
     ]
    }
   ],
   "source": [
    "y_pred = clf.predict(X_test)\n",
    "for  metin,durum in zip(test_x[:30],y_pred[:]):\n",
    "    print('%r => %s'% (metin,durum)) "
   ]
  },
  {
   "cell_type": "code",
   "execution_count": 24,
   "id": "f2f87f07",
   "metadata": {},
   "outputs": [
    {
     "name": "stdout",
     "output_type": "stream",
     "text": [
      "Doğruluk oranı : % 87.73895847066578\n"
     ]
    }
   ],
   "source": [
    "from sklearn.metrics import accuracy_score\n",
    "accuracy_naive =accuracy_score(y_test,y_pred)\n",
    "print(\"Doğruluk oranı : %\",accuracy_naive * 100)"
   ]
  },
  {
   "cell_type": "markdown",
   "id": "eaa97f74",
   "metadata": {},
   "source": [
    "### Yeni yapılan yorumların duygusunun tahmini;"
   ]
  },
  {
   "cell_type": "code",
   "execution_count": 25,
   "id": "aeb7d543",
   "metadata": {},
   "outputs": [],
   "source": [
    "yeni_yorum = pd.Series(\"Bedeninizi alabilirsiniz, gerçekten güzel…\") #olumlu\n",
    "\n",
    "yeni_yorum2 = pd.Series(\"Ben gri aldim kahve rengi yolandi nasil KARISIKLIK olur anlamiyorum biraz daha dikkat ve özen lutfen !!!!\") #olumsuz\n",
    "\n",
    "yeni_yorum3 = pd.Series(\"biraz büyük ama idare eder\") #nötr"
   ]
  },
  {
   "cell_type": "code",
   "execution_count": 26,
   "id": "c43019a5",
   "metadata": {},
   "outputs": [
    {
     "data": {
      "text/plain": [
       "<1x11449 sparse matrix of type '<class 'numpy.int64'>'\n",
       "\twith 1 stored elements in Compressed Sparse Row format>"
      ]
     },
     "execution_count": 26,
     "metadata": {},
     "output_type": "execute_result"
    }
   ],
   "source": [
    "yeni_yorum = count_vect.transform(yeni_yorum)\n",
    "yeni_yorum"
   ]
  },
  {
   "cell_type": "code",
   "execution_count": 27,
   "id": "0d384614",
   "metadata": {},
   "outputs": [
    {
     "data": {
      "text/plain": [
       "array([1], dtype=int64)"
      ]
     },
     "execution_count": 27,
     "metadata": {},
     "output_type": "execute_result"
    }
   ],
   "source": [
    "clf.predict(yeni_yorum)  "
   ]
  },
  {
   "cell_type": "code",
   "execution_count": 28,
   "id": "1651c4bc",
   "metadata": {},
   "outputs": [
    {
     "data": {
      "text/plain": [
       "<1x11449 sparse matrix of type '<class 'numpy.int64'>'\n",
       "\twith 11 stored elements in Compressed Sparse Row format>"
      ]
     },
     "execution_count": 28,
     "metadata": {},
     "output_type": "execute_result"
    }
   ],
   "source": [
    "yeni_yorum2 = count_vect.transform(yeni_yorum2)\n",
    "yeni_yorum2"
   ]
  },
  {
   "cell_type": "code",
   "execution_count": 29,
   "id": "8854889b",
   "metadata": {},
   "outputs": [
    {
     "data": {
      "text/plain": [
       "array([0], dtype=int64)"
      ]
     },
     "execution_count": 29,
     "metadata": {},
     "output_type": "execute_result"
    }
   ],
   "source": [
    "clf.predict(yeni_yorum2)"
   ]
  },
  {
   "cell_type": "code",
   "execution_count": 30,
   "id": "013439df",
   "metadata": {},
   "outputs": [
    {
     "data": {
      "text/plain": [
       "<1x11449 sparse matrix of type '<class 'numpy.int64'>'\n",
       "\twith 5 stored elements in Compressed Sparse Row format>"
      ]
     },
     "execution_count": 30,
     "metadata": {},
     "output_type": "execute_result"
    }
   ],
   "source": [
    "yeni_yorum3 = count_vect.transform(yeni_yorum3)\n",
    "yeni_yorum3"
   ]
  },
  {
   "cell_type": "code",
   "execution_count": 31,
   "id": "502147ef",
   "metadata": {},
   "outputs": [
    {
     "data": {
      "text/plain": [
       "array([2], dtype=int64)"
      ]
     },
     "execution_count": 31,
     "metadata": {},
     "output_type": "execute_result"
    }
   ],
   "source": [
    "clf.predict(yeni_yorum3)"
   ]
  },
  {
   "cell_type": "markdown",
   "id": "2070f7c7",
   "metadata": {},
   "source": [
    "## Random Forest ;"
   ]
  },
  {
   "cell_type": "code",
   "execution_count": 32,
   "id": "3bcd775a",
   "metadata": {},
   "outputs": [
    {
     "data": {
      "text/plain": [
       "RandomForestClassifier(random_state=42)"
      ]
     },
     "execution_count": 32,
     "metadata": {},
     "output_type": "execute_result"
    }
   ],
   "source": [
    "model = RandomForestClassifier(n_estimators = 100, random_state=42)\n",
    "model.fit(X_train, y_train)"
   ]
  },
  {
   "cell_type": "code",
   "execution_count": 33,
   "id": "0b47fe77",
   "metadata": {},
   "outputs": [
    {
     "data": {
      "text/plain": [
       "<1517x11449 sparse matrix of type '<class 'numpy.int64'>'\n",
       "\twith 13611 stored elements in Compressed Sparse Row format>"
      ]
     },
     "execution_count": 33,
     "metadata": {},
     "output_type": "execute_result"
    }
   ],
   "source": [
    "test_xx = count_vect.transform(test_x)\n",
    "test_xx"
   ]
  },
  {
   "cell_type": "code",
   "execution_count": 34,
   "id": "d7a54278",
   "metadata": {},
   "outputs": [
    {
     "data": {
      "text/plain": [
       "(1517, 11449)"
      ]
     },
     "execution_count": 34,
     "metadata": {},
     "output_type": "execute_result"
    }
   ],
   "source": [
    "test_xx = test_xx.toarray()\n",
    "test_xx.shape"
   ]
  },
  {
   "cell_type": "code",
   "execution_count": 35,
   "id": "8e2212d5",
   "metadata": {},
   "outputs": [
    {
     "name": "stdout",
     "output_type": "stream",
     "text": [
      "Doğruluk oranı : % 88.00263678312459\n"
     ]
    }
   ],
   "source": [
    "test_predict = model.predict(test_xx)\n",
    "accuracy_forest = accuracy_score(y_test, test_predict)\n",
    "print(\"Doğruluk oranı : %\",accuracy_forest* 100)"
   ]
  },
  {
   "cell_type": "code",
   "execution_count": 36,
   "id": "e7f87aab",
   "metadata": {},
   "outputs": [
    {
     "data": {
      "text/plain": [
       "array([1], dtype=int64)"
      ]
     },
     "execution_count": 36,
     "metadata": {},
     "output_type": "execute_result"
    }
   ],
   "source": [
    "model.predict(yeni_yorum)"
   ]
  },
  {
   "cell_type": "code",
   "execution_count": 37,
   "id": "74096140",
   "metadata": {},
   "outputs": [
    {
     "data": {
      "text/plain": [
       "array([0], dtype=int64)"
      ]
     },
     "execution_count": 37,
     "metadata": {},
     "output_type": "execute_result"
    }
   ],
   "source": [
    "model.predict(yeni_yorum2)"
   ]
  },
  {
   "cell_type": "code",
   "execution_count": 38,
   "id": "c7ab01e0",
   "metadata": {},
   "outputs": [
    {
     "data": {
      "text/plain": [
       "array([0], dtype=int64)"
      ]
     },
     "execution_count": 38,
     "metadata": {},
     "output_type": "execute_result"
    }
   ],
   "source": [
    "model.predict(yeni_yorum3)"
   ]
  },
  {
   "cell_type": "code",
   "execution_count": null,
   "id": "e5f77951",
   "metadata": {},
   "outputs": [],
   "source": []
  }
 ],
 "metadata": {
  "kernelspec": {
   "display_name": "Python 3 (ipykernel)",
   "language": "python",
   "name": "python3"
  },
  "language_info": {
   "codemirror_mode": {
    "name": "ipython",
    "version": 3
   },
   "file_extension": ".py",
   "mimetype": "text/x-python",
   "name": "python",
   "nbconvert_exporter": "python",
   "pygments_lexer": "ipython3",
   "version": "3.7.13"
  }
 },
 "nbformat": 4,
 "nbformat_minor": 5
}
